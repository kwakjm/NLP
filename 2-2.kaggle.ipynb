{
 "cells": [
  {
   "cell_type": "code",
   "execution_count": 1,
   "metadata": {},
   "outputs": [],
   "source": [
    "import kaggle"
   ]
  },
  {
   "cell_type": "code",
   "execution_count": 2,
   "metadata": {},
   "outputs": [
    {
     "name": "stdout",
     "output_type": "stream",
     "text": [
      "ref                                                                                           deadline             category            reward  teamCount  userHasEntered  \n",
      "--------------------------------------------------------------------------------------------  -------------------  ---------------  ---------  ---------  --------------  \n",
      "https://www.kaggle.com/competitions/asl-fingerspelling                                        2023-08-24 23:59:00  Research          $200,000        805           False  \n",
      "https://www.kaggle.com/competitions/icr-identify-age-related-conditions                       2023-08-10 23:59:00  Featured           $60,000       5870           False  \n",
      "https://www.kaggle.com/competitions/commonlit-evaluate-student-summaries                      2023-10-11 23:59:00  Featured           $60,000        284           False  \n",
      "https://www.kaggle.com/competitions/bengaliai-speech                                          2023-10-17 23:59:00  Research           $53,000        104           False  \n",
      "https://www.kaggle.com/competitions/hubmap-hacking-the-human-vasculature                      2023-07-31 23:59:00  Research           $50,000        990           False  \n",
      "https://www.kaggle.com/competitions/google-research-identify-contrails-reduce-global-warming  2023-08-09 23:59:00  Research           $50,000        813           False  \n",
      "https://www.kaggle.com/competitions/cafa-5-protein-function-prediction                        2023-08-21 23:59:00  Research           $50,000       1190           False  \n",
      "https://www.kaggle.com/competitions/kaggle-llm-science-exam                                   2023-10-10 23:59:00  Featured           $50,000        540           False  \n",
      "https://www.kaggle.com/competitions/playground-series-s3e19                                   2023-07-31 23:59:00  Playground            Swag        861           False  \n",
      "https://www.kaggle.com/competitions/titanic                                                   2030-01-01 00:00:00  Getting Started  Knowledge      16020           False  \n",
      "https://www.kaggle.com/competitions/house-prices-advanced-regression-techniques               2030-01-01 00:00:00  Getting Started  Knowledge       4239           False  \n",
      "https://www.kaggle.com/competitions/spaceship-titanic                                         2030-01-01 00:00:00  Getting Started  Knowledge       2462           False  \n",
      "https://www.kaggle.com/competitions/digit-recognizer                                          2030-01-01 00:00:00  Getting Started  Knowledge       1595           False  \n",
      "https://www.kaggle.com/competitions/nlp-getting-started                                       2030-01-01 00:00:00  Getting Started  Knowledge        997           False  \n",
      "https://www.kaggle.com/competitions/connectx                                                  2030-01-01 00:00:00  Getting Started  Knowledge        199           False  \n",
      "https://www.kaggle.com/competitions/tpu-getting-started                                       2030-06-03 23:59:00  Getting Started  Knowledge        132           False  \n",
      "https://www.kaggle.com/competitions/store-sales-time-series-forecasting                       2030-06-30 23:59:00  Getting Started  Knowledge        842           False  \n",
      "https://www.kaggle.com/competitions/gan-getting-started                                       2030-07-01 23:59:00  Getting Started     Prizes        104           False  \n",
      "https://www.kaggle.com/competitions/contradictory-my-dear-watson                              2030-07-01 23:59:00  Getting Started     Prizes         69           False  \n"
     ]
    }
   ],
   "source": [
    "! kaggle competitions list"
   ]
  },
  {
   "cell_type": "code",
   "execution_count": 5,
   "metadata": {},
   "outputs": [
    {
     "name": "stdout",
     "output_type": "stream",
     "text": [
      "Downloading word2vec-nlp-tutorial.zip to c:\\NLP\n",
      "\n"
     ]
    },
    {
     "name": "stderr",
     "output_type": "stream",
     "text": [
      "\n",
      "  0%|          | 0.00/51.7M [00:00<?, ?B/s]\n",
      "  2%|▏         | 1.00M/51.7M [00:00<00:39, 1.36MB/s]\n",
      "  4%|▍         | 2.00M/51.7M [00:00<00:19, 2.71MB/s]\n",
      "  8%|▊         | 4.00M/51.7M [00:01<00:09, 5.03MB/s]\n",
      " 10%|▉         | 5.00M/51.7M [00:01<00:08, 5.75MB/s]\n",
      " 14%|█▎        | 7.00M/51.7M [00:01<00:06, 7.38MB/s]\n",
      " 17%|█▋        | 9.00M/51.7M [00:01<00:05, 8.53MB/s]\n",
      " 19%|█▉        | 10.0M/51.7M [00:01<00:05, 8.62MB/s]\n",
      " 23%|██▎       | 12.0M/51.7M [00:01<00:04, 9.66MB/s]\n",
      " 27%|██▋       | 14.0M/51.7M [00:02<00:03, 10.0MB/s]\n",
      " 31%|███       | 16.0M/51.7M [00:02<00:03, 10.6MB/s]\n",
      " 35%|███▍      | 18.0M/51.7M [00:02<00:03, 10.9MB/s]\n",
      " 39%|███▊      | 20.0M/51.7M [00:02<00:02, 11.1MB/s]\n",
      " 43%|████▎     | 22.0M/51.7M [00:02<00:02, 11.2MB/s]\n",
      " 46%|████▋     | 24.0M/51.7M [00:02<00:02, 11.2MB/s]\n",
      " 50%|█████     | 26.0M/51.7M [00:03<00:02, 10.7MB/s]\n",
      " 54%|█████▍    | 28.0M/51.7M [00:03<00:02, 11.0MB/s]\n",
      " 58%|█████▊    | 30.0M/51.7M [00:03<00:02, 10.9MB/s]\n",
      " 62%|██████▏   | 32.0M/51.7M [00:03<00:01, 11.0MB/s]\n",
      " 66%|██████▌   | 34.0M/51.7M [00:03<00:01, 11.1MB/s]\n",
      " 70%|██████▉   | 36.0M/51.7M [00:04<00:01, 11.2MB/s]\n",
      " 74%|███████▎  | 38.0M/51.7M [00:04<00:01, 11.4MB/s]\n",
      " 77%|███████▋  | 40.0M/51.7M [00:04<00:01, 11.3MB/s]\n",
      " 81%|████████▏ | 42.0M/51.7M [00:04<00:00, 11.3MB/s]\n",
      " 85%|████████▌ | 44.0M/51.7M [00:04<00:00, 11.4MB/s]\n",
      " 89%|████████▉ | 46.0M/51.7M [00:05<00:00, 11.2MB/s]\n",
      " 93%|█████████▎| 48.0M/51.7M [00:05<00:00, 11.0MB/s]\n",
      " 97%|█████████▋| 50.0M/51.7M [00:05<00:00, 11.1MB/s]\n",
      "100%|██████████| 51.7M/51.7M [00:05<00:00, 11.1MB/s]\n",
      "100%|██████████| 51.7M/51.7M [00:05<00:00, 9.65MB/s]\n"
     ]
    }
   ],
   "source": [
    "! kaggle competitions download -c word2vec-nlp-tutorial"
   ]
  },
  {
   "cell_type": "code",
   "execution_count": null,
   "metadata": {},
   "outputs": [],
   "source": []
  }
 ],
 "metadata": {
  "kernelspec": {
   "display_name": "py3.8",
   "language": "python",
   "name": "python3"
  },
  "language_info": {
   "codemirror_mode": {
    "name": "ipython",
    "version": 3
   },
   "file_extension": ".py",
   "mimetype": "text/x-python",
   "name": "python",
   "nbconvert_exporter": "python",
   "pygments_lexer": "ipython3",
   "version": "3.8.16"
  },
  "orig_nbformat": 4
 },
 "nbformat": 4,
 "nbformat_minor": 2
}
