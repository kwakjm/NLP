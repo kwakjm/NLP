{
 "cells": [
  {
   "cell_type": "code",
   "execution_count": 33,
   "metadata": {},
   "outputs": [],
   "source": [
    "# ! pip install -r requirements.txt"
   ]
  },
  {
   "cell_type": "code",
   "execution_count": 34,
   "metadata": {},
   "outputs": [
    {
     "name": "stdout",
     "output_type": "stream",
     "text": [
      "2.12.0\n"
     ]
    }
   ],
   "source": [
    "from tensorflow import keras\n",
    "import tensorflow as tf\n",
    "import numpy as np\n",
    "import sys\n",
    "import matplotlib.pyplot as plt\n",
    "\n",
    "print(tf.__version__)"
   ]
  },
  {
   "cell_type": "code",
   "execution_count": 35,
   "metadata": {},
   "outputs": [
    {
     "name": "stdout",
     "output_type": "stream",
     "text": [
      "Model: \"model_sequential\"\n",
      "_________________________________________________________________\n",
      " Layer (type)                Output Shape              Param #   \n",
      "=================================================================\n",
      " Hidden1 (Dense)             (None, 64)                704       \n",
      "                                                                 \n",
      " Dropout (Dropout)           (None, 64)                0         \n",
      "                                                                 \n",
      " hidden2 (Dense)             (None, 32)                2080      \n",
      "                                                                 \n",
      " output (Dense)              (None, 10)                330       \n",
      "                                                                 \n",
      "=================================================================\n",
      "Total params: 3,114\n",
      "Trainable params: 3,114\n",
      "Non-trainable params: 0\n",
      "_________________________________________________________________\n"
     ]
    }
   ],
   "source": [
    "#sequential API\n",
    "model_seq = keras.Sequential(name='model_sequential')\n",
    "model_seq.add(keras.Input(shape =(10,), name= 'Inputlayer'))\n",
    "model_seq.add(keras.layers.Dense(64, 'relu', name = 'Hidden1'))\n",
    "model_seq.add(keras.layers.Dropout(0.2, name = 'Dropout'))\n",
    "model_seq.add(keras.layers.Dense(32, 'relu', name= 'hidden2'))\n",
    "model_seq.add(keras.layers.Dense(10, 'softmax', name = 'output'))\n",
    "model_seq.summary()"
   ]
  },
  {
   "cell_type": "code",
   "execution_count": 36,
   "metadata": {},
   "outputs": [
    {
     "name": "stdout",
     "output_type": "stream",
     "text": [
      "Model: \"sequential_2\"\n",
      "_________________________________________________________________\n",
      " Layer (type)                Output Shape              Param #   \n",
      "=================================================================\n",
      " Hidden1 (Dense)             (None, 64)                704       \n",
      "                                                                 \n"
     ]
    },
    {
     "name": "stdout",
     "output_type": "stream",
     "text": [
      " Dropout (Dropout)           (None, 64)                0         \n",
      "                                                                 \n",
      " hidden2 (Dense)             (None, 32)                2080      \n",
      "                                                                 \n",
      " output (Dense)              (None, 10)                330       \n",
      "                                                                 \n",
      "=================================================================\n",
      "Total params: 3,114\n",
      "Trainable params: 3,114\n",
      "Non-trainable params: 0\n",
      "_________________________________________________________________\n"
     ]
    }
   ],
   "source": [
    "model_seq2 = keras.Sequential([\n",
    "    keras.Input(shape =(10,), name= 'Inputlayer'),\n",
    "    keras.layers.Dense(64, 'relu', name = 'Hidden1'),\n",
    "    keras.layers.Dropout(0.2, name = 'Dropout'),\n",
    "    keras.layers.Dense(32, 'relu', name= 'hidden2'),\n",
    "    keras.layers.Dense(10, 'softmax', name = 'output')\n",
    "])\n",
    "model_seq2.summary()"
   ]
  },
  {
   "cell_type": "code",
   "execution_count": 37,
   "metadata": {},
   "outputs": [
    {
     "name": "stdout",
     "output_type": "stream",
     "text": [
      "Model: \"Model_fun\"\n",
      "_________________________________________________________________\n",
      " Layer (type)                Output Shape              Param #   \n",
      "=================================================================\n",
      " Inputlayer (InputLayer)     [(None, 10)]              0         \n",
      "                                                                 \n",
      " hidden1 (Dense)             (None, 64)                704       \n",
      "                                                                 \n",
      " Dropout (Dropout)           (None, 64)                0         \n",
      "                                                                 \n",
      " hidden2 (Dense)             (None, 32)                2080      \n",
      "                                                                 \n",
      " output (Dense)              (None, 10)                330       \n",
      "                                                                 \n",
      "=================================================================\n",
      "Total params: 3,114\n",
      "Trainable params: 3,114\n",
      "Non-trainable params: 0\n",
      "_________________________________________________________________\n"
     ]
    }
   ],
   "source": [
    "## Functional API\n",
    "inputs = keras.Input(shape = (10, ), name= 'Inputlayer')\n",
    "hidden1 = keras.layers.Dense(64, 'relu', name = 'hidden1')(inputs)\n",
    "drop_out = keras.layers.Dropout(0.2, name = 'Dropout')(hidden1)\n",
    "hidden2 = keras.layers.Dense(32, 'relu', name='hidden2')(drop_out)\n",
    "outputs = keras.layers.Dense(10, 'softmax', name = 'output')(hidden2)\n",
    "model_fun = keras.Model(inputs = inputs, outputs = outputs, name = 'Model_fun')\n",
    "\n",
    "model_fun.summary()\n"
   ]
  },
  {
   "cell_type": "code",
   "execution_count": 38,
   "metadata": {},
   "outputs": [
    {
     "name": "stdout",
     "output_type": "stream",
     "text": [
      "Model: \"Model_sub\"\n",
      "_________________________________________________________________\n",
      " Layer (type)                Output Shape              Param #   \n",
      "=================================================================\n",
      " dense_21 (Dense)            multiple                  704       \n",
      "                                                                 \n",
      " dropout_7 (Dropout)         multiple                  0         \n",
      "                                                                 \n",
      " dense_22 (Dense)            multiple                  2080      \n",
      "                                                                 \n",
      " dense_23 (Dense)            multiple                  330       \n",
      "                                                                 \n",
      "=================================================================\n",
      "Total params: 3,114\n",
      "Trainable params: 3,114\n",
      "Non-trainable params: 0\n",
      "_________________________________________________________________\n"
     ]
    }
   ],
   "source": [
    "## Subclassing API\n",
    "\n",
    "class Model_sub(keras.Model):\n",
    "    def __init__(self, hidden1, drop_rate, hidden2, outputs):\n",
    "        super(Model_sub, self).__init__(name='Model_sub')\n",
    "        self.hidden1 = keras.layers.Dense(hidden1,'relu')\n",
    "        self.drop_out = keras.layers.Dropout(drop_rate)\n",
    "        self.hidden2 = keras.layers.Dense(hidden2,'relu')\n",
    "        self.outputs = keras.layers.Dense(outputs, 'softmax')\n",
    "        \n",
    "    def call(self, inputs):\n",
    "        x=self.hidden1(inputs)\n",
    "        x = self.drop_out(x)\n",
    "        x = self.hidden2(x)\n",
    "        x = self.outputs(x)\n",
    "        \n",
    "        return(x)\n",
    "    \n",
    "mymodel_sub = Model_sub(64, 0.2, 32, 10)\n",
    "mymodel_sub.build(input_shape=(1,10))\n",
    "mymodel_sub.summary()"
   ]
  },
  {
   "cell_type": "code",
   "execution_count": 39,
   "metadata": {},
   "outputs": [
    {
     "data": {
      "text/plain": [
       "array([[  6.   , 148.   ,  72.   , ...,   0.627,  50.   ,   1.   ],\n",
       "       [  1.   ,  85.   ,  66.   , ...,   0.351,  31.   ,   0.   ],\n",
       "       [  8.   , 183.   ,  64.   , ...,   0.672,  32.   ,   1.   ],\n",
       "       ...,\n",
       "       [  5.   , 121.   ,  72.   , ...,   0.245,  30.   ,   0.   ],\n",
       "       [  1.   , 126.   ,  60.   , ...,   0.349,  47.   ,   1.   ],\n",
       "       [  1.   ,  93.   ,  70.   , ...,   0.315,  23.   ,   0.   ]])"
      ]
     },
     "execution_count": 39,
     "metadata": {},
     "output_type": "execute_result"
    }
   ],
   "source": [
    "dataset = np.loadtxt('./pima-indians-diabetes.csv', delimiter = ',')\n",
    "dataset"
   ]
  },
  {
   "cell_type": "code",
   "execution_count": 40,
   "metadata": {},
   "outputs": [
    {
     "name": "stdout",
     "output_type": "stream",
     "text": [
      "<class 'numpy.ndarray'>\n",
      "<class 'numpy.ndarray'>\n",
      "(768, 8) (768,)\n"
     ]
    }
   ],
   "source": [
    "X = dataset[:,:-1]\n",
    "y = dataset[:,-1]\n",
    "print(type(X))\n",
    "print(type(y))\n",
    "\n",
    "print(X.shape, y.shape)"
   ]
  },
  {
   "cell_type": "code",
   "execution_count": 41,
   "metadata": {},
   "outputs": [],
   "source": [
    "## Subclassing\n",
    "\n",
    "class DM(keras.Model): #모델상속\n",
    "    def __init__(self, hidden1, drop_out, hidden2, outputs):\n",
    "        super(DM,self).__init__()\n",
    "        self.hidden1 = keras.layers.Dense(hidden1, 'relu')\n",
    "        self.dropout = keras.layers.Dropout(drop_out)\n",
    "        self.hidden2 = keras.layers.Dense(hidden2, 'relu')\n",
    "        self.outputs = keras.layers.Dense(outputs, 'sigmoid')\n",
    "        \n",
    "    def call(self, inputs):\n",
    "        x = self.hidden1(inputs)\n",
    "        x = self.dropout(x)\n",
    "        x= self.hidden2(x)\n",
    "        x = self.outputs(x)\n",
    "        \n",
    "        return(x)\n",
    "    \n",
    "dm_model = DM(64, 0.2, 32, 1)"
   ]
  },
  {
   "cell_type": "code",
   "execution_count": 42,
   "metadata": {},
   "outputs": [],
   "source": [
    "early_stop = keras.callbacks.EarlyStopping(patience=10)\n",
    "check_point = keras.callbacks.ModelCheckpoint(filepath='./model_save/best_model.h5',\n",
    "                                              save_best_only=True,\n",
    "                                              save_weights_only=True)\n",
    "\n",
    "dm_model.compile(loss = 'binary_crossentropy',\n",
    "                 optimizer = 'adam',\n",
    "                 metrics = ['acc'])"
   ]
  },
  {
   "cell_type": "code",
   "execution_count": 43,
   "metadata": {},
   "outputs": [
    {
     "name": "stdout",
     "output_type": "stream",
     "text": [
      "Epoch 1/100\n",
      "10/10 [==============================] - 1s 25ms/step - loss: 9.8328 - acc: 0.6254 - val_loss: 3.1453 - val_acc: 0.5260\n",
      "Epoch 2/100\n",
      "10/10 [==============================] - 0s 7ms/step - loss: 4.5548 - acc: 0.4951 - val_loss: 3.0410 - val_acc: 0.3377\n",
      "Epoch 3/100\n",
      "10/10 [==============================] - 0s 7ms/step - loss: 3.3492 - acc: 0.5033 - val_loss: 1.3791 - val_acc: 0.6299\n",
      "Epoch 4/100\n",
      "10/10 [==============================] - 0s 6ms/step - loss: 2.5282 - acc: 0.6026 - val_loss: 1.2304 - val_acc: 0.5519\n",
      "Epoch 5/100\n",
      "10/10 [==============================] - 0s 6ms/step - loss: 2.2703 - acc: 0.5684 - val_loss: 1.1493 - val_acc: 0.5325\n",
      "Epoch 6/100\n",
      "10/10 [==============================] - 0s 6ms/step - loss: 2.0782 - acc: 0.5798 - val_loss: 1.0124 - val_acc: 0.6234\n",
      "Epoch 7/100\n",
      "10/10 [==============================] - 0s 5ms/step - loss: 1.7529 - acc: 0.5782 - val_loss: 1.0498 - val_acc: 0.5325\n",
      "Epoch 8/100\n",
      "10/10 [==============================] - 0s 6ms/step - loss: 1.5679 - acc: 0.5912 - val_loss: 0.8199 - val_acc: 0.6104\n",
      "Epoch 9/100\n",
      "10/10 [==============================] - 0s 5ms/step - loss: 1.3958 - acc: 0.6352 - val_loss: 0.8433 - val_acc: 0.5455\n",
      "Epoch 10/100\n",
      "10/10 [==============================] - 0s 8ms/step - loss: 1.4047 - acc: 0.6091 - val_loss: 0.7551 - val_acc: 0.5909\n",
      "Epoch 11/100\n",
      "10/10 [==============================] - 0s 8ms/step - loss: 1.2112 - acc: 0.6140 - val_loss: 0.8017 - val_acc: 0.5714\n",
      "Epoch 12/100\n",
      "10/10 [==============================] - 0s 5ms/step - loss: 1.2684 - acc: 0.6221 - val_loss: 0.8021 - val_acc: 0.5130\n",
      "Epoch 13/100\n",
      "10/10 [==============================] - 0s 4ms/step - loss: 1.2289 - acc: 0.5928 - val_loss: 0.8459 - val_acc: 0.6429\n",
      "Epoch 14/100\n",
      "10/10 [==============================] - 0s 5ms/step - loss: 1.2141 - acc: 0.6026 - val_loss: 0.7609 - val_acc: 0.5779\n",
      "Epoch 15/100\n",
      "10/10 [==============================] - 0s 6ms/step - loss: 1.1340 - acc: 0.5993 - val_loss: 0.7682 - val_acc: 0.6299\n",
      "Epoch 16/100\n",
      "10/10 [==============================] - 0s 7ms/step - loss: 1.0764 - acc: 0.6205 - val_loss: 0.7340 - val_acc: 0.5974\n",
      "Epoch 17/100\n",
      "10/10 [==============================] - 0s 5ms/step - loss: 1.0099 - acc: 0.6173 - val_loss: 0.7401 - val_acc: 0.6104\n",
      "Epoch 18/100\n",
      "10/10 [==============================] - 0s 5ms/step - loss: 0.9428 - acc: 0.6238 - val_loss: 0.7441 - val_acc: 0.6104\n",
      "Epoch 19/100\n",
      "10/10 [==============================] - 0s 6ms/step - loss: 0.9222 - acc: 0.6482 - val_loss: 0.7311 - val_acc: 0.5649\n",
      "Epoch 20/100\n",
      "10/10 [==============================] - 0s 10ms/step - loss: 0.8319 - acc: 0.6417 - val_loss: 0.7181 - val_acc: 0.5779\n",
      "Epoch 21/100\n",
      "10/10 [==============================] - 0s 7ms/step - loss: 0.8596 - acc: 0.6254 - val_loss: 0.7434 - val_acc: 0.6299\n",
      "Epoch 22/100\n",
      "10/10 [==============================] - 0s 5ms/step - loss: 0.9586 - acc: 0.6173 - val_loss: 0.7401 - val_acc: 0.5584\n",
      "Epoch 23/100\n",
      "10/10 [==============================] - 0s 5ms/step - loss: 0.8863 - acc: 0.6238 - val_loss: 0.7693 - val_acc: 0.6169\n",
      "Epoch 24/100\n",
      "10/10 [==============================] - 0s 4ms/step - loss: 0.8886 - acc: 0.6596 - val_loss: 0.7379 - val_acc: 0.5974\n",
      "Epoch 25/100\n",
      "10/10 [==============================] - 0s 7ms/step - loss: 0.8967 - acc: 0.6482 - val_loss: 0.7282 - val_acc: 0.6039\n",
      "Epoch 26/100\n",
      "10/10 [==============================] - 0s 8ms/step - loss: 0.8493 - acc: 0.6450 - val_loss: 0.7640 - val_acc: 0.5909\n",
      "Epoch 27/100\n",
      "10/10 [==============================] - 0s 6ms/step - loss: 0.8139 - acc: 0.6726 - val_loss: 0.7437 - val_acc: 0.5844\n",
      "Epoch 28/100\n",
      "10/10 [==============================] - 0s 5ms/step - loss: 0.8385 - acc: 0.6319 - val_loss: 0.7664 - val_acc: 0.6104\n",
      "Epoch 29/100\n",
      "10/10 [==============================] - 0s 4ms/step - loss: 0.7739 - acc: 0.6580 - val_loss: 0.7509 - val_acc: 0.5714\n",
      "Epoch 30/100\n",
      "10/10 [==============================] - 0s 5ms/step - loss: 0.7454 - acc: 0.6482 - val_loss: 0.7379 - val_acc: 0.5909\n"
     ]
    }
   ],
   "source": [
    "history = dm_model.fit(X, y, validation_split=0.2,\n",
    "             epochs=100, batch_size=64,\n",
    "             callbacks=[early_stop, check_point])"
   ]
  },
  {
   "cell_type": "code",
   "execution_count": 44,
   "metadata": {},
   "outputs": [
    {
     "data": {
      "text/plain": [
       "dict_keys(['loss', 'acc', 'val_loss', 'val_acc'])"
      ]
     },
     "execution_count": 44,
     "metadata": {},
     "output_type": "execute_result"
    }
   ],
   "source": [
    "history.history.keys()"
   ]
  },
  {
   "cell_type": "code",
   "execution_count": 46,
   "metadata": {},
   "outputs": [
    {
     "data": {
      "image/png": "[encoded data removed]",
      "text/plain": [
       "<Figure size 640x480 with 1 Axes>"
      ]
     },
     "metadata": {},
     "output_type": "display_data"
    }
   ],
   "source": [
    "plt.plot(history.history['loss'], c = 'r', label = 'Train')\n",
    "plt.plot(history.history['val_loss'], c = 'b', label = 'Validation')\n",
    "plt.legend()\n",
    "plt.grid(alpha = 0.5, linestyle = ':')\n",
    "plt.xlabel = 'epochs'\n",
    "plt.ylabel = 'Loss'\n",
    "plt.show()"
   ]
  },
  {
   "cell_type": "code",
   "execution_count": 49,
   "metadata": {},
   "outputs": [
    {
     "data": {
      "text/plain": [
       "array(['너 오늘 이뻐 보인다', '나는 오늘 기분이 더러워', '끝내주는데, 좋은 일이 있나봐', '나 좋은 일이 생겼어',\n",
       "       '아 오늘 진짜 짜증나', '환상적인데, 정말 좋은거 같아'], dtype='<U16')"
      ]
     },
     "metadata": {},
     "output_type": "display_data"
    },
    {
     "name": "stdout",
     "output_type": "stream",
     "text": [
      "[[1], [0], [1], [1], [0], [1]]\n"
     ]
    }
   ],
   "source": [
    "## Sentimental analysis\n",
    "samples = np.array(['너 오늘 이뻐 보인다',\n",
    "          '나는 오늘 기분이 더러워',\n",
    "          '끝내주는데, 좋은 일이 있나봐',\n",
    "          '나 좋은 일이 생겼어',\n",
    "          '아 오늘 진짜 짜증나',\n",
    "          '환상적인데, 정말 좋은거 같아'])\n",
    "\n",
    "targets =[[1], [0], [1], [1], [0], [1]]\n",
    "\n",
    "display(samples)\n",
    "print(targets)"
   ]
  },
  {
   "cell_type": "code",
   "execution_count": 51,
   "metadata": {},
   "outputs": [
    {
     "name": "stdout",
     "output_type": "stream",
     "text": [
      "OrderedDict([('너', 1), ('오늘', 3), ('이뻐', 1), ('보인다', 1), ('나는', 1), ('기분이', 1), ('더러워', 1), ('끝내주는데', 1), ('좋은', 2), ('일이', 2), ('있나봐', 1), ('나', 1), ('생겼어', 1), ('아', 1), ('진짜', 1), ('짜증나', 1), ('환상적인데', 1), ('정말', 1), ('좋은거', 1), ('같아', 1)])\n",
      "{'오늘': 1, '좋은': 2, '일이': 3, '너': 4, '이뻐': 5, '보인다': 6, '나는': 7, '기분이': 8, '더러워': 9, '끝내주는데': 10, '있나봐': 11, '나': 12, '생겼어': 13, '아': 14, '진짜': 15, '짜증나': 16, '환상적인데': 17, '정말': 18, '좋은거': 19, '같아': 20}\n"
     ]
    }
   ],
   "source": [
    "## Tokening\n",
    "tokenizer = keras.preprocessing.text.Tokenizer()\n",
    "tokenizer.fit_on_texts(samples)\n",
    "\n",
    "print(tokenizer.word_counts)\n",
    "print(tokenizer.word_index)"
   ]
  },
  {
   "cell_type": "code",
   "execution_count": 52,
   "metadata": {},
   "outputs": [
    {
     "name": "stdout",
     "output_type": "stream",
     "text": [
      "[[4, 1, 5, 6], [7, 1, 8, 9], [10, 2, 3, 11], [12, 2, 3, 13], [14, 1, 15, 16], [17, 18, 19, 20]]\n"
     ]
    }
   ],
   "source": [
    "sequence = tokenizer.texts_to_sequences(samples)\n",
    "print(sequence)"
   ]
  },
  {
   "cell_type": "code",
   "execution_count": 60,
   "metadata": {},
   "outputs": [
    {
     "name": "stdout",
     "output_type": "stream",
     "text": [
      "[[ 4  1  5  6]\n",
      " [ 7  1  8  9]\n",
      " [10  2  3 11]\n",
      " [12  2  3 13]\n",
      " [14  1 15 16]\n",
      " [17 18 19 20]]\n"
     ]
    }
   ],
   "source": [
    "input_sequence = np.array(sequence)\n",
    "targets = np.array(targets)\n",
    "print(input_sequence)"
   ]
  },
  {
   "cell_type": "code",
   "execution_count": 66,
   "metadata": {},
   "outputs": [
    {
     "name": "stdout",
     "output_type": "stream",
     "text": [
      "Model: \"model\"\n",
      "_________________________________________________________________\n",
      " Layer (type)                Output Shape              Param #   \n",
      "=================================================================\n",
      " input_8 (InputLayer)        [(None, 4)]               0         \n",
      "                                                                 \n",
      " embedding_4 (Embedding)     (None, 4, 128)            2688      \n",
      "                                                                 \n",
      " tf.math.reduce_mean_1 (TFOp  (None, 128)              0         \n",
      " Lambda)                                                         \n",
      "                                                                 \n",
      " dense_36 (Dense)            (None, 156)               20124     \n",
      "                                                                 \n",
      " dense_37 (Dense)            (None, 1)                 157       \n",
      "                                                                 \n",
      "=================================================================\n",
      "Total params: 22,969\n",
      "Trainable params: 22,969\n",
      "Non-trainable params: 0\n",
      "_________________________________________________________________\n"
     ]
    }
   ],
   "source": [
    "batch_size = 2\n",
    "num_epochs = 100\n",
    "word_index = tokenizer.word_index\n",
    "vocab_size = len(word_index) +1\n",
    "emb_size = 128\n",
    "hidden1 = 156\n",
    "hidden2 = 1\n",
    "\n",
    "# sentiment_model = keras.Sequential()\n",
    "# sentiment_model.add(keras.Input(4, )) #4마디로 나눴기 때문에\n",
    "# sentiment_model.add(keras.layers.Embedding(vocab_size, emb_size))\n",
    "# sentiment_model.add(keras.layers.Lambda(lambda x: tf.reduce_mean(x, axis =1)))\n",
    "# sentiment_model.add(keras.layers.Dense(hidden1, 'relu'))\n",
    "# sentiment_model.add(keras.layers.Dense(hidden2, 'sigmoid'))\n",
    "inputs = keras.Input(shape = (4, ))\n",
    "embedding_layer = keras.layers.Embedding(vocab_size, emb_size)(inputs)\n",
    "mean_emb = tf.reduce_mean(embedding_layer, axis = 1)\n",
    "dense1 = keras.layers.Dense(hidden1, 'relu')(mean_emb)\n",
    "outputs = keras.layers.Dense(hidden2, 'sigmoid')(dense1)\n",
    "sentiment_model_fun = keras.Model(inputs = inputs, outputs = outputs)\n",
    "\n",
    "sentiment_model_fun.summary()"
   ]
  },
  {
   "cell_type": "code",
   "execution_count": 63,
   "metadata": {},
   "outputs": [
    {
     "name": "stdout",
     "output_type": "stream",
     "text": [
      "Epoch 1/100\n",
      "2/2 [==============================] - 1s 139ms/step - loss: 0.0011 - acc: 1.0000 - val_loss: 0.6594 - val_acc: 1.0000\n",
      "Epoch 2/100\n",
      "2/2 [==============================] - 0s 28ms/step - loss: 7.7098e-04 - acc: 1.0000 - val_loss: 0.6624 - val_acc: 0.5000\n",
      "Epoch 3/100\n",
      "2/2 [==============================] - 0s 28ms/step - loss: 5.1810e-04 - acc: 1.0000 - val_loss: 0.6627 - val_acc: 0.5000\n",
      "Epoch 4/100\n",
      "2/2 [==============================] - 0s 25ms/step - loss: 3.6567e-04 - acc: 1.0000 - val_loss: 0.6668 - val_acc: 0.5000\n",
      "Epoch 5/100\n",
      "2/2 [==============================] - 0s 27ms/step - loss: 2.5376e-04 - acc: 1.0000 - val_loss: 0.6689 - val_acc: 0.5000\n",
      "Epoch 6/100\n",
      "2/2 [==============================] - 0s 31ms/step - loss: 1.9451e-04 - acc: 1.0000 - val_loss: 0.6711 - val_acc: 0.5000\n",
      "Epoch 7/100\n",
      "2/2 [==============================] - 0s 34ms/step - loss: 1.4977e-04 - acc: 1.0000 - val_loss: 0.6709 - val_acc: 0.5000\n",
      "Epoch 8/100\n",
      "2/2 [==============================] - 0s 28ms/step - loss: 1.1480e-04 - acc: 1.0000 - val_loss: 0.6704 - val_acc: 0.5000\n",
      "Epoch 9/100\n",
      "2/2 [==============================] - 0s 27ms/step - loss: 8.7576e-05 - acc: 1.0000 - val_loss: 0.6707 - val_acc: 0.5000\n",
      "Epoch 10/100\n",
      "2/2 [==============================] - 0s 28ms/step - loss: 7.0190e-05 - acc: 1.0000 - val_loss: 0.6707 - val_acc: 0.5000\n",
      "Epoch 11/100\n",
      "2/2 [==============================] - 0s 27ms/step - loss: 5.7465e-05 - acc: 1.0000 - val_loss: 0.6703 - val_acc: 0.5000\n",
      "Epoch 12/100\n",
      "2/2 [==============================] - 0s 27ms/step - loss: 4.7936e-05 - acc: 1.0000 - val_loss: 0.6697 - val_acc: 0.5000\n",
      "Epoch 13/100\n",
      "2/2 [==============================] - 0s 29ms/step - loss: 4.1724e-05 - acc: 1.0000 - val_loss: 0.6683 - val_acc: 0.5000\n",
      "Epoch 14/100\n",
      "2/2 [==============================] - 0s 26ms/step - loss: 3.5835e-05 - acc: 1.0000 - val_loss: 0.6669 - val_acc: 0.5000\n",
      "Epoch 15/100\n",
      "2/2 [==============================] - 0s 30ms/step - loss: 3.1202e-05 - acc: 1.0000 - val_loss: 0.6654 - val_acc: 0.5000\n",
      "Epoch 16/100\n",
      "2/2 [==============================] - 0s 28ms/step - loss: 2.7879e-05 - acc: 1.0000 - val_loss: 0.6642 - val_acc: 0.5000\n",
      "Epoch 17/100\n",
      "2/2 [==============================] - 0s 34ms/step - loss: 2.4861e-05 - acc: 1.0000 - val_loss: 0.6629 - val_acc: 0.5000\n",
      "Epoch 18/100\n",
      "2/2 [==============================] - 0s 32ms/step - loss: 2.2203e-05 - acc: 1.0000 - val_loss: 0.6616 - val_acc: 0.5000\n",
      "Epoch 19/100\n",
      "2/2 [==============================] - 0s 25ms/step - loss: 2.0422e-05 - acc: 1.0000 - val_loss: 0.6605 - val_acc: 0.5000\n",
      "Epoch 20/100\n",
      "2/2 [==============================] - 0s 26ms/step - loss: 1.8350e-05 - acc: 1.0000 - val_loss: 0.6596 - val_acc: 0.5000\n",
      "Epoch 21/100\n",
      "2/2 [==============================] - 0s 27ms/step - loss: 1.6918e-05 - acc: 1.0000 - val_loss: 0.6586 - val_acc: 0.5000\n",
      "Epoch 22/100\n",
      "2/2 [==============================] - 0s 24ms/step - loss: 1.5946e-05 - acc: 1.0000 - val_loss: 0.6577 - val_acc: 0.5000\n",
      "Epoch 23/100\n",
      "2/2 [==============================] - 0s 27ms/step - loss: 1.4892e-05 - acc: 1.0000 - val_loss: 0.6568 - val_acc: 0.5000\n",
      "Epoch 24/100\n",
      "2/2 [==============================] - 0s 29ms/step - loss: 1.4159e-05 - acc: 1.0000 - val_loss: 0.6560 - val_acc: 0.5000\n",
      "Epoch 25/100\n",
      "2/2 [==============================] - 0s 27ms/step - loss: 1.3561e-05 - acc: 1.0000 - val_loss: 0.6549 - val_acc: 0.5000\n",
      "Epoch 26/100\n",
      "2/2 [==============================] - 0s 28ms/step - loss: 1.2946e-05 - acc: 1.0000 - val_loss: 0.6541 - val_acc: 0.5000\n",
      "Epoch 27/100\n",
      "2/2 [==============================] - 0s 27ms/step - loss: 1.2333e-05 - acc: 1.0000 - val_loss: 0.6532 - val_acc: 0.5000\n",
      "Epoch 28/100\n",
      "2/2 [==============================] - 0s 35ms/step - loss: 1.1738e-05 - acc: 1.0000 - val_loss: 0.6523 - val_acc: 0.5000\n",
      "Epoch 29/100\n",
      "2/2 [==============================] - 0s 31ms/step - loss: 1.1177e-05 - acc: 1.0000 - val_loss: 0.6518 - val_acc: 0.5000\n",
      "Epoch 30/100\n",
      "2/2 [==============================] - 0s 27ms/step - loss: 1.0757e-05 - acc: 1.0000 - val_loss: 0.6512 - val_acc: 0.5000\n",
      "Epoch 31/100\n",
      "2/2 [==============================] - 0s 26ms/step - loss: 1.0442e-05 - acc: 1.0000 - val_loss: 0.6504 - val_acc: 0.5000\n",
      "Epoch 32/100\n",
      "2/2 [==============================] - 0s 27ms/step - loss: 1.0012e-05 - acc: 1.0000 - val_loss: 0.6499 - val_acc: 0.5000\n",
      "Epoch 33/100\n",
      "2/2 [==============================] - 0s 27ms/step - loss: 9.7739e-06 - acc: 1.0000 - val_loss: 0.6493 - val_acc: 0.5000\n",
      "Epoch 34/100\n",
      "2/2 [==============================] - 0s 30ms/step - loss: 9.3359e-06 - acc: 1.0000 - val_loss: 0.6487 - val_acc: 0.5000\n",
      "Epoch 35/100\n",
      "2/2 [==============================] - 0s 26ms/step - loss: 9.1376e-06 - acc: 1.0000 - val_loss: 0.6481 - val_acc: 0.5000\n",
      "Epoch 36/100\n",
      "2/2 [==============================] - 0s 27ms/step - loss: 8.8144e-06 - acc: 1.0000 - val_loss: 0.6477 - val_acc: 0.5000\n",
      "Epoch 37/100\n",
      "2/2 [==============================] - 0s 25ms/step - loss: 8.5358e-06 - acc: 1.0000 - val_loss: 0.6472 - val_acc: 0.5000\n",
      "Epoch 38/100\n",
      "2/2 [==============================] - 0s 25ms/step - loss: 8.3278e-06 - acc: 1.0000 - val_loss: 0.6468 - val_acc: 0.5000\n",
      "Epoch 39/100\n",
      "2/2 [==============================] - 0s 61ms/step - loss: 8.1013e-06 - acc: 1.0000 - val_loss: 0.6464 - val_acc: 0.5000\n",
      "Epoch 40/100\n",
      "2/2 [==============================] - 0s 29ms/step - loss: 7.8622e-06 - acc: 1.0000 - val_loss: 0.6460 - val_acc: 1.0000\n",
      "Epoch 41/100\n",
      "2/2 [==============================] - 0s 23ms/step - loss: 7.7178e-06 - acc: 1.0000 - val_loss: 0.6454 - val_acc: 1.0000\n",
      "Epoch 42/100\n",
      "2/2 [==============================] - 0s 26ms/step - loss: 7.4599e-06 - acc: 1.0000 - val_loss: 0.6450 - val_acc: 1.0000\n",
      "Epoch 43/100\n",
      "2/2 [==============================] - 0s 25ms/step - loss: 7.3469e-06 - acc: 1.0000 - val_loss: 0.6445 - val_acc: 1.0000\n",
      "Epoch 44/100\n",
      "2/2 [==============================] - 0s 29ms/step - loss: 7.1560e-06 - acc: 1.0000 - val_loss: 0.6441 - val_acc: 1.0000\n",
      "Epoch 45/100\n",
      "2/2 [==============================] - 0s 25ms/step - loss: 6.9563e-06 - acc: 1.0000 - val_loss: 0.6436 - val_acc: 1.0000\n",
      "Epoch 46/100\n",
      "2/2 [==============================] - 0s 47ms/step - loss: 6.7443e-06 - acc: 1.0000 - val_loss: 0.6433 - val_acc: 1.0000\n",
      "Epoch 47/100\n",
      "2/2 [==============================] - 0s 28ms/step - loss: 6.6088e-06 - acc: 1.0000 - val_loss: 0.6430 - val_acc: 1.0000\n",
      "Epoch 48/100\n",
      "2/2 [==============================] - 0s 28ms/step - loss: 6.4793e-06 - acc: 1.0000 - val_loss: 0.6426 - val_acc: 1.0000\n",
      "Epoch 49/100\n",
      "2/2 [==============================] - 0s 25ms/step - loss: 6.3063e-06 - acc: 1.0000 - val_loss: 0.6424 - val_acc: 1.0000\n",
      "Epoch 50/100\n",
      "2/2 [==============================] - 0s 28ms/step - loss: 6.1488e-06 - acc: 1.0000 - val_loss: 0.6420 - val_acc: 1.0000\n",
      "Epoch 51/100\n",
      "2/2 [==============================] - 0s 26ms/step - loss: 6.0662e-06 - acc: 1.0000 - val_loss: 0.6417 - val_acc: 1.0000\n",
      "Epoch 52/100\n",
      "2/2 [==============================] - 0s 32ms/step - loss: 5.9120e-06 - acc: 1.0000 - val_loss: 0.6413 - val_acc: 1.0000\n",
      "Epoch 53/100\n",
      "2/2 [==============================] - 0s 26ms/step - loss: 5.7635e-06 - acc: 1.0000 - val_loss: 0.6411 - val_acc: 1.0000\n",
      "Epoch 54/100\n",
      "2/2 [==============================] - 0s 25ms/step - loss: 5.6413e-06 - acc: 1.0000 - val_loss: 0.6409 - val_acc: 1.0000\n",
      "Epoch 55/100\n",
      "2/2 [==============================] - 0s 26ms/step - loss: 5.5087e-06 - acc: 1.0000 - val_loss: 0.6406 - val_acc: 1.0000\n",
      "Epoch 56/100\n",
      "2/2 [==============================] - 0s 25ms/step - loss: 5.4389e-06 - acc: 1.0000 - val_loss: 0.6403 - val_acc: 1.0000\n",
      "Epoch 57/100\n",
      "2/2 [==============================] - 0s 26ms/step - loss: 5.2802e-06 - acc: 1.0000 - val_loss: 0.6400 - val_acc: 1.0000\n",
      "Epoch 58/100\n",
      "2/2 [==============================] - 0s 28ms/step - loss: 5.1876e-06 - acc: 1.0000 - val_loss: 0.6398 - val_acc: 1.0000\n",
      "Epoch 59/100\n",
      "2/2 [==============================] - 0s 30ms/step - loss: 5.0706e-06 - acc: 1.0000 - val_loss: 0.6396 - val_acc: 1.0000\n",
      "Epoch 60/100\n",
      "2/2 [==============================] - 0s 29ms/step - loss: 4.9831e-06 - acc: 1.0000 - val_loss: 0.6394 - val_acc: 1.0000\n",
      "Epoch 61/100\n",
      "2/2 [==============================] - 0s 29ms/step - loss: 4.8843e-06 - acc: 1.0000 - val_loss: 0.6392 - val_acc: 1.0000\n",
      "Epoch 62/100\n",
      "2/2 [==============================] - 0s 31ms/step - loss: 4.7881e-06 - acc: 1.0000 - val_loss: 0.6389 - val_acc: 1.0000\n",
      "Epoch 63/100\n",
      "2/2 [==============================] - 0s 34ms/step - loss: 4.7079e-06 - acc: 1.0000 - val_loss: 0.6386 - val_acc: 1.0000\n",
      "Epoch 64/100\n",
      "2/2 [==============================] - 0s 48ms/step - loss: 4.6024e-06 - acc: 1.0000 - val_loss: 0.6384 - val_acc: 1.0000\n",
      "Epoch 65/100\n",
      "2/2 [==============================] - 0s 24ms/step - loss: 4.5272e-06 - acc: 1.0000 - val_loss: 0.6380 - val_acc: 1.0000\n",
      "Epoch 66/100\n",
      "2/2 [==============================] - 0s 26ms/step - loss: 4.4285e-06 - acc: 1.0000 - val_loss: 0.6379 - val_acc: 1.0000\n",
      "Epoch 67/100\n",
      "2/2 [==============================] - 0s 23ms/step - loss: 4.3572e-06 - acc: 1.0000 - val_loss: 0.6376 - val_acc: 1.0000\n",
      "Epoch 68/100\n",
      "2/2 [==============================] - 0s 27ms/step - loss: 4.2644e-06 - acc: 1.0000 - val_loss: 0.6374 - val_acc: 1.0000\n",
      "Epoch 69/100\n",
      "2/2 [==============================] - 0s 26ms/step - loss: 4.1868e-06 - acc: 1.0000 - val_loss: 0.6373 - val_acc: 1.0000\n",
      "Epoch 70/100\n",
      "2/2 [==============================] - 0s 26ms/step - loss: 4.1298e-06 - acc: 1.0000 - val_loss: 0.6370 - val_acc: 1.0000\n",
      "Epoch 71/100\n",
      "2/2 [==============================] - 0s 26ms/step - loss: 4.0443e-06 - acc: 1.0000 - val_loss: 0.6367 - val_acc: 1.0000\n",
      "Epoch 72/100\n",
      "2/2 [==============================] - 0s 26ms/step - loss: 3.9794e-06 - acc: 1.0000 - val_loss: 0.6365 - val_acc: 1.0000\n",
      "Epoch 73/100\n",
      "2/2 [==============================] - 0s 25ms/step - loss: 3.8989e-06 - acc: 1.0000 - val_loss: 0.6363 - val_acc: 1.0000\n",
      "Epoch 74/100\n",
      "2/2 [==============================] - 0s 27ms/step - loss: 3.8305e-06 - acc: 1.0000 - val_loss: 0.6360 - val_acc: 1.0000\n",
      "Epoch 75/100\n",
      "2/2 [==============================] - 0s 29ms/step - loss: 3.7638e-06 - acc: 1.0000 - val_loss: 0.6358 - val_acc: 1.0000\n",
      "Epoch 76/100\n",
      "2/2 [==============================] - 0s 29ms/step - loss: 3.7066e-06 - acc: 1.0000 - val_loss: 0.6356 - val_acc: 1.0000\n",
      "Epoch 77/100\n",
      "2/2 [==============================] - 0s 27ms/step - loss: 3.6348e-06 - acc: 1.0000 - val_loss: 0.6354 - val_acc: 1.0000\n",
      "Epoch 78/100\n",
      "2/2 [==============================] - 0s 27ms/step - loss: 3.5736e-06 - acc: 1.0000 - val_loss: 0.6352 - val_acc: 1.0000\n",
      "Epoch 79/100\n",
      "2/2 [==============================] - 0s 27ms/step - loss: 3.5080e-06 - acc: 1.0000 - val_loss: 0.6351 - val_acc: 1.0000\n",
      "Epoch 80/100\n",
      "2/2 [==============================] - 0s 24ms/step - loss: 3.4574e-06 - acc: 1.0000 - val_loss: 0.6349 - val_acc: 1.0000\n",
      "Epoch 81/100\n",
      "2/2 [==============================] - 0s 25ms/step - loss: 3.3947e-06 - acc: 1.0000 - val_loss: 0.6348 - val_acc: 1.0000\n",
      "Epoch 82/100\n",
      "2/2 [==============================] - 0s 28ms/step - loss: 3.3466e-06 - acc: 1.0000 - val_loss: 0.6346 - val_acc: 1.0000\n",
      "Epoch 83/100\n",
      "2/2 [==============================] - 0s 25ms/step - loss: 3.2864e-06 - acc: 1.0000 - val_loss: 0.6345 - val_acc: 1.0000\n",
      "Epoch 84/100\n",
      "2/2 [==============================] - 0s 27ms/step - loss: 3.2347e-06 - acc: 1.0000 - val_loss: 0.6344 - val_acc: 1.0000\n",
      "Epoch 85/100\n",
      "2/2 [==============================] - 0s 27ms/step - loss: 3.1961e-06 - acc: 1.0000 - val_loss: 0.6343 - val_acc: 1.0000\n",
      "Epoch 86/100\n",
      "2/2 [==============================] - 0s 28ms/step - loss: 3.1266e-06 - acc: 1.0000 - val_loss: 0.6341 - val_acc: 1.0000\n",
      "Epoch 87/100\n",
      "2/2 [==============================] - 0s 29ms/step - loss: 3.0798e-06 - acc: 1.0000 - val_loss: 0.6340 - val_acc: 1.0000\n",
      "Epoch 88/100\n",
      "2/2 [==============================] - 0s 28ms/step - loss: 3.0451e-06 - acc: 1.0000 - val_loss: 0.6337 - val_acc: 1.0000\n",
      "Epoch 89/100\n",
      "2/2 [==============================] - 0s 26ms/step - loss: 2.9977e-06 - acc: 1.0000 - val_loss: 0.6335 - val_acc: 1.0000\n",
      "Epoch 90/100\n",
      "2/2 [==============================] - 0s 25ms/step - loss: 2.9465e-06 - acc: 1.0000 - val_loss: 0.6335 - val_acc: 1.0000\n",
      "Epoch 91/100\n",
      "2/2 [==============================] - 0s 26ms/step - loss: 2.9025e-06 - acc: 1.0000 - val_loss: 0.6334 - val_acc: 1.0000\n",
      "Epoch 92/100\n",
      "2/2 [==============================] - 0s 28ms/step - loss: 2.8539e-06 - acc: 1.0000 - val_loss: 0.6333 - val_acc: 1.0000\n",
      "Epoch 93/100\n",
      "2/2 [==============================] - 0s 24ms/step - loss: 2.8182e-06 - acc: 1.0000 - val_loss: 0.6332 - val_acc: 1.0000\n",
      "Epoch 94/100\n",
      "2/2 [==============================] - 0s 34ms/step - loss: 2.7715e-06 - acc: 1.0000 - val_loss: 0.6330 - val_acc: 1.0000\n",
      "Epoch 95/100\n",
      "2/2 [==============================] - 0s 44ms/step - loss: 2.7372e-06 - acc: 1.0000 - val_loss: 0.6329 - val_acc: 1.0000\n",
      "Epoch 96/100\n",
      "2/2 [==============================] - 0s 23ms/step - loss: 2.6974e-06 - acc: 1.0000 - val_loss: 0.6328 - val_acc: 1.0000\n",
      "Epoch 97/100\n",
      "2/2 [==============================] - 0s 25ms/step - loss: 2.6632e-06 - acc: 1.0000 - val_loss: 0.6326 - val_acc: 1.0000\n",
      "Epoch 98/100\n",
      "2/2 [==============================] - 0s 26ms/step - loss: 2.6242e-06 - acc: 1.0000 - val_loss: 0.6324 - val_acc: 1.0000\n",
      "Epoch 99/100\n",
      "2/2 [==============================] - 0s 28ms/step - loss: 2.5864e-06 - acc: 1.0000 - val_loss: 0.6322 - val_acc: 1.0000\n",
      "Epoch 100/100\n",
      "2/2 [==============================] - 0s 28ms/step - loss: 2.5455e-06 - acc: 1.0000 - val_loss: 0.6321 - val_acc: 1.0000\n"
     ]
    }
   ],
   "source": [
    "# sentiment_model.compile(loss= 'binary_crossentropy',\n",
    "#                         optimizer='adam',\n",
    "#                         metrics = ['acc'])\n",
    "\n",
    "# history = sentiment_model.fit(input_sequence, targets, epochs= 100, batch_size= batch_size, validation_split=0.2)"
   ]
  },
  {
   "cell_type": "code",
   "execution_count": 67,
   "metadata": {},
   "outputs": [],
   "source": [
    "## Subclassing\n",
    "\n",
    "class Sentiment_sub(keras.Model):\n",
    "    def __init__(self, vocab_size, emb_size, hidden, outputs_node):\n",
    "        super(Sentiment_sub, self).__init__()\n",
    "        self.embedding = keras.layers.Embedding(vocab_size, emb_size) \n",
    "        self.dense = keras.layers.Dense(hidden, 'relu')\n",
    "        self.outputs = keras.layers.Dense(outputs_node, 'sigmoid')\n",
    "        \n",
    "    def call(self, input):\n",
    "        x = self.embedding(x)\n",
    "        x = tf.reduce_mean(x, axis = 1)\n",
    "        x = self.dense(x)\n",
    "        x = self.outputs(x)\n",
    "        \n",
    "        return(x)\n",
    "    \n",
    "sentiment_sub = Sentiment_sub(vocab_size, emb_size, 156, 1)"
   ]
  },
  {
   "cell_type": "code",
   "execution_count": 99,
   "metadata": {},
   "outputs": [
    {
     "name": "stdout",
     "output_type": "stream",
     "text": [
      "1.2.2\n"
     ]
    }
   ],
   "source": [
    "import sklearn\n",
    "import pandas as pd\n",
    "from sklearn import datasets  \n",
    "print(sklearn.__version__)"
   ]
  },
  {
   "cell_type": "code",
   "execution_count": 100,
   "metadata": {},
   "outputs": [
    {
     "data": {
      "text/plain": [
       "dict_keys(['data', 'target', 'frame', 'target_names', 'DESCR', 'feature_names', 'filename', 'data_module'])"
      ]
     },
     "execution_count": 100,
     "metadata": {},
     "output_type": "execute_result"
    }
   ],
   "source": [
    "iris_dataset = sklearn.datasets.load_iris()\n",
    "iris_dataset\n",
    "iris_dataset.keys()"
   ]
  },
  {
   "cell_type": "code",
   "execution_count": 101,
   "metadata": {},
   "outputs": [
    {
     "name": "stdout",
     "output_type": "stream",
     "text": [
      "[0 0 0 0 0 0 0 0 0 0 0 0 0 0 0 0 0 0 0 0 0 0 0 0 0 0 0 0 0 0 0 0 0 0 0 0 0\n",
      " 0 0 0 0 0 0 0 0 0 0 0 0 0 1 1 1 1 1 1 1 1 1 1 1 1 1 1 1 1 1 1 1 1 1 1 1 1\n",
      " 1 1 1 1 1 1 1 1 1 1 1 1 1 1 1 1 1 1 1 1 1 1 1 1 1 1 2 2 2 2 2 2 2 2 2 2 2\n",
      " 2 2 2 2 2 2 2 2 2 2 2 2 2 2 2 2 2 2 2 2 2 2 2 2 2 2 2 2 2 2 2 2 2 2 2 2 2\n",
      " 2 2]\n",
      "['setosa' 'versicolor' 'virginica']\n",
      "['sepal length (cm)', 'sepal width (cm)', 'petal length (cm)', 'petal width (cm)']\n"
     ]
    }
   ],
   "source": [
    "# print(iris_datatset['data'])\n",
    "print(iris_dataset['target'])\n",
    "print(iris_dataset['target_names'])\n",
    "print(iris_dataset['feature_names']) #각각 column이 의미하는바"
   ]
  },
  {
   "cell_type": "code",
   "execution_count": 102,
   "metadata": {},
   "outputs": [
    {
     "name": "stdout",
     "output_type": "stream",
     "text": [
      ".. _iris_dataset:\n",
      "\n",
      "Iris plants dataset\n",
      "--------------------\n",
      "\n",
      "**Data Set Characteristics:**\n",
      "\n",
      "    :Number of Instances: 150 (50 in each of three classes)\n",
      "    :Number of Attributes: 4 numeric, predictive attributes and the class\n",
      "    :Attribute Information:\n",
      "        - sepal length in cm\n",
      "        - sepal width in cm\n",
      "        - petal length in cm\n",
      "        - petal width in cm\n",
      "        - class:\n",
      "                - Iris-Setosa\n",
      "                - Iris-Versicolour\n",
      "                - Iris-Virginica\n",
      "                \n",
      "    :Summary Statistics:\n",
      "\n",
      "    ============== ==== ==== ======= ===== ====================\n",
      "                    Min  Max   Mean    SD   Class Correlation\n",
      "    ============== ==== ==== ======= ===== ====================\n",
      "    sepal length:   4.3  7.9   5.84   0.83    0.7826\n",
      "    sepal width:    2.0  4.4   3.05   0.43   -0.4194\n",
      "    petal length:   1.0  6.9   3.76   1.76    0.9490  (high!)\n",
      "    petal width:    0.1  2.5   1.20   0.76    0.9565  (high!)\n",
      "    ============== ==== ==== ======= ===== ====================\n",
      "\n",
      "    :Missing Attribute Values: None\n",
      "    :Class Distribution: 33.3% for each of 3 classes.\n",
      "    :Creator: R.A. Fisher\n",
      "    :Donor: Michael Marshall (MARSHALL%PLU@io.arc.nasa.gov)\n",
      "    :Date: July, 1988\n",
      "\n",
      "The famous Iris database, first used by Sir R.A. Fisher. The dataset is taken\n",
      "from Fisher's paper. Note that it's the same as in R, but not as in the UCI\n",
      "Machine Learning Repository, which has two wrong data points.\n",
      "\n",
      "This is perhaps the best known database to be found in the\n",
      "pattern recognition literature.  Fisher's paper is a classic in the field and\n",
      "is referenced frequently to this day.  (See Duda & Hart, for example.)  The\n",
      "data set contains 3 classes of 50 instances each, where each class refers to a\n",
      "type of iris plant.  One class is linearly separable from the other 2; the\n",
      "latter are NOT linearly separable from each other.\n",
      "\n",
      ".. topic:: References\n",
      "\n",
      "   - Fisher, R.A. \"The use of multiple measurements in taxonomic problems\"\n",
      "     Annual Eugenics, 7, Part II, 179-188 (1936); also in \"Contributions to\n",
      "     Mathematical Statistics\" (John Wiley, NY, 1950).\n",
      "   - Duda, R.O., & Hart, P.E. (1973) Pattern Classification and Scene Analysis.\n",
      "     (Q327.D83) John Wiley & Sons.  ISBN 0-471-22361-1.  See page 218.\n",
      "   - Dasarathy, B.V. (1980) \"Nosing Around the Neighborhood: A New System\n",
      "     Structure and Classification Rule for Recognition in Partially Exposed\n",
      "     Environments\".  IEEE Transactions on Pattern Analysis and Machine\n",
      "     Intelligence, Vol. PAMI-2, No. 1, 67-71.\n",
      "   - Gates, G.W. (1972) \"The Reduced Nearest Neighbor Rule\".  IEEE Transactions\n",
      "     on Information Theory, May 1972, 431-433.\n",
      "   - See also: 1988 MLC Proceedings, 54-64.  Cheeseman et al\"s AUTOCLASS II\n",
      "     conceptual clustering system finds 3 classes in the data.\n",
      "   - Many, many more ...\n"
     ]
    }
   ],
   "source": [
    "print(iris_dataset['DESCR'])"
   ]
  },
  {
   "cell_type": "code",
   "execution_count": 103,
   "metadata": {},
   "outputs": [
    {
     "data": {
      "text/html": [
       "<div>\n",
       "<style scoped>\n",
       "    .dataframe tbody tr th:only-of-type {\n",
       "        vertical-align: middle;\n",
       "    }\n",
       "\n",
       "    .dataframe tbody tr th {\n",
       "        vertical-align: top;\n",
       "    }\n",
       "\n",
       "    .dataframe thead th {\n",
       "        text-align: right;\n",
       "    }\n",
       "</style>\n",
       "<table border=\"1\" class=\"dataframe\">\n",
       "  <thead>\n",
       "    <tr style=\"text-align: right;\">\n",
       "      <th></th>\n",
       "      <th>sepal_length</th>\n",
       "      <th>sepal_width</th>\n",
       "      <th>petal)length</th>\n",
       "      <th>petal_width</th>\n",
       "      <th>class</th>\n",
       "    </tr>\n",
       "  </thead>\n",
       "  <tbody>\n",
       "    <tr>\n",
       "      <th>0</th>\n",
       "      <td>5.1</td>\n",
       "      <td>3.5</td>\n",
       "      <td>1.4</td>\n",
       "      <td>0.2</td>\n",
       "      <td>0</td>\n",
       "    </tr>\n",
       "    <tr>\n",
       "      <th>1</th>\n",
       "      <td>4.9</td>\n",
       "      <td>3.0</td>\n",
       "      <td>1.4</td>\n",
       "      <td>0.2</td>\n",
       "      <td>0</td>\n",
       "    </tr>\n",
       "    <tr>\n",
       "      <th>2</th>\n",
       "      <td>4.7</td>\n",
       "      <td>3.2</td>\n",
       "      <td>1.3</td>\n",
       "      <td>0.2</td>\n",
       "      <td>0</td>\n",
       "    </tr>\n",
       "    <tr>\n",
       "      <th>3</th>\n",
       "      <td>4.6</td>\n",
       "      <td>3.1</td>\n",
       "      <td>1.5</td>\n",
       "      <td>0.2</td>\n",
       "      <td>0</td>\n",
       "    </tr>\n",
       "    <tr>\n",
       "      <th>4</th>\n",
       "      <td>5.0</td>\n",
       "      <td>3.6</td>\n",
       "      <td>1.4</td>\n",
       "      <td>0.2</td>\n",
       "      <td>0</td>\n",
       "    </tr>\n",
       "  </tbody>\n",
       "</table>\n",
       "</div>"
      ],
      "text/plain": [
       "   sepal_length  sepal_width  petal)length  petal_width  class\n",
       "0           5.1          3.5           1.4          0.2      0\n",
       "1           4.9          3.0           1.4          0.2      0\n",
       "2           4.7          3.2           1.3          0.2      0\n",
       "3           4.6          3.1           1.5          0.2      0\n",
       "4           5.0          3.6           1.4          0.2      0"
      ]
     },
     "execution_count": 103,
     "metadata": {},
     "output_type": "execute_result"
    }
   ],
   "source": [
    "iris = pd.DataFrame(iris_dataset['data'])\n",
    "iris['target'] = iris_dataset['target']\n",
    "iris.columns = ['sepal_length','sepal_width','petal)length','petal_width','class']\n",
    "iris.head()"
   ]
  },
  {
   "cell_type": "code",
   "execution_count": 104,
   "metadata": {},
   "outputs": [],
   "source": [
    "from sklearn.model_selection import train_test_split , GridSearchCV\n",
    "from sklearn.preprocessing import StandardScaler"
   ]
  },
  {
   "cell_type": "code",
   "execution_count": 105,
   "metadata": {},
   "outputs": [
    {
     "name": "stdout",
     "output_type": "stream",
     "text": [
      "(120, 4)\n",
      "<class 'numpy.ndarray'> <class 'numpy.ndarray'>\n"
     ]
    }
   ],
   "source": [
    "train_input,test_input,train_target,test_target =train_test_split(\n",
    "    iris_dataset['data'],iris_dataset['target'],\n",
    "    test_size =0.2\n",
    ")\n",
    "\n",
    "print(train_input.shape)\n",
    "print(type(train_input),type(train_target))"
   ]
  },
  {
   "cell_type": "code",
   "execution_count": 107,
   "metadata": {},
   "outputs": [],
   "source": [
    "ss = StandardScaler()\n",
    "ss.fit(train_input)\n",
    "train_scaled = ss.transform(train_input)\n",
    "test_scaled = ss.transform(test_input)"
   ]
  },
  {
   "cell_type": "code",
   "execution_count": 108,
   "metadata": {},
   "outputs": [],
   "source": [
    "from sklearn.neighbors import KNeighborsClassifier"
   ]
  },
  {
   "cell_type": "code",
   "execution_count": 109,
   "metadata": {},
   "outputs": [],
   "source": [
    "knn = KNeighborsClassifier(n_neighbors=5)"
   ]
  },
  {
   "cell_type": "code",
   "execution_count": 111,
   "metadata": {},
   "outputs": [
    {
     "name": "stdout",
     "output_type": "stream",
     "text": [
      "Fitting 5 folds for each of 9 candidates, totalling 45 fits\n",
      "{'n_neighbors': 4}\n",
      "0.95\n"
     ]
    }
   ],
   "source": [
    "params_knn = {'n_neighbors': range(1,10)}\n",
    "gs_knn = GridSearchCV(estimator=knn,\n",
    "                      param_grid=params_knn,\n",
    "                      scoring='accuracy', cv = 5, verbose=1)\n",
    "gs_knn.fit(train_scaled, train_target)\n",
    "\n",
    "print(gs_knn.best_params_)\n",
    "print(gs_knn.best_score_)"
   ]
  },
  {
   "cell_type": "code",
   "execution_count": null,
   "metadata": {},
   "outputs": [],
   "source": []
  }
 ],
 "metadata": {
  "kernelspec": {
   "display_name": "py3.8",
   "language": "python",
   "name": "python3"
  },
  "language_info": {
   "codemirror_mode": {
    "name": "ipython",
    "version": 3
   },
   "file_extension": ".py",
   "mimetype": "text/x-python",
   "name": "python",
   "nbconvert_exporter": "python",
   "pygments_lexer": "ipython3",
   "version": "3.8.16"
  },
  "orig_nbformat": 4
 },
 "nbformat": 4,
 "nbformat_minor": 2
}
